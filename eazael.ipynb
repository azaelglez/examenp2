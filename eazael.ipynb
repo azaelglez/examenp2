{
  "nbformat": 4,
  "nbformat_minor": 0,
  "metadata": {
    "colab": {
      "name": "eazael.ipynb",
      "provenance": [],
      "include_colab_link": true
    },
    "kernelspec": {
      "name": "python3",
      "display_name": "Python 3"
    },
    "language_info": {
      "name": "python"
    }
  },
  "cells": [
    {
      "cell_type": "markdown",
      "metadata": {
        "id": "view-in-github",
        "colab_type": "text"
      },
      "source": [
        "<a href=\"https://colab.research.google.com/github/azaelglez/examenp2/blob/main/eazael.ipynb\" target=\"_parent\"><img src=\"https://colab.research.google.com/assets/colab-badge.svg\" alt=\"Open In Colab\"/></a>"
      ]
    },
    {
      "cell_type": "code",
      "metadata": {
        "id": "wwuT2JbMPY4v",
        "colab": {
          "base_uri": "https://localhost:8080/"
        },
        "outputId": "3cf0e3d8-8667-40e2-eba5-0a5b3e28d7fd"
      },
      "source": [
        "import pandas as pd\n",
        "from google.colab import drive\n",
        "#drive.mount('/content/drive')\n",
        "drive.mount('/content/drive', force_remount=True)\n",
        "\n",
        "def limpiar(cifra):\n",
        "    \"\"\"\n",
        "    Función que elimina los puntos de separación de miles y cambia las comas de separación de decimales por puntos.\n",
        "    Parámetros:\n",
        "        - cifra: Es una cadena con una cifra\n",
        "    Devuelve:\n",
        "        Un real con la cifra de la cadena después de eliminar el separador de miles y cambiar el separador de decimales por punto.\n",
        "    \"\"\"\n",
        "    cifra = cifra.replace('.', '')\n",
        "    cifra = cifra.replace(',','.')\n",
        "    return float(cifra) \n",
        "\n",
        "def preprocesado(ruta):\n",
        "    \"\"\"\n",
        "    Función que preprocesa los datos contenidos en un fichero con formato csv y devuelve un diccionario con los nombres de las columnas como claves y las listas de valores asociados a ellas.\n",
        "    Parámetros:\n",
        "        - ruta: Es una cadena con la ruta del fichero.\n",
        "    Devuelve:\n",
        "        Un diccionario con pares formados por los nombres de las columnas y las listas de valores en las columnas.\n",
        "    \"\"\"\n",
        "    try:\n",
        "        # Abrimos el fichero en modo lectura\n",
        "        f = open(ruta, 'r')\n",
        "    except FileNotFoundError:\n",
        "        print('El fichero no existe.')\n",
        "        return\n",
        "    # Leemos el fichero por líneas en una lista\n",
        "    lines = f.readlines()\n",
        "    # Cerramos el fichero\n",
        "    f.close()\n",
        "    # Leemos las claves del primer elemento de la lista y eliminamos el cambio de línea que aparece al final\n",
        "    claves = lines[0]\n",
        "    # Eliminamos el cambio de línea que aparece al final y dividimos la cadena por el punto y coma\n",
        "    claves = claves[:-1].split(';')\n",
        "    # Creamos el diccionario\n",
        "    cotizaciones = {}\n",
        "    # Inicializamos el diccionario con listas vacías\n",
        "    for i in claves:\n",
        "        cotizaciones[i] = []\n",
        "    # Recorremos la lista línea a línea\n",
        "    for linea in lines[1:]:\n",
        "        # Eliminamos el cambio de línea que aparece al final y dividimos la cadena por el punto y coma\n",
        "        linea = linea[:-1].split(';')\n",
        "        cotizaciones[claves[0]].append(linea[0])\n",
        "        # Añadimos cada dato a la lista correspondiente del diccionario\n",
        "        for i in range(1, len(cotizaciones)):\n",
        "            cotizaciones[claves[i]].append(limpiar(linea[i]))\n",
        "    return cotizaciones\n",
        "\n",
        "\n",
        "def resumen_cotizacion(cotizaciones, ruta):\n",
        "    \"\"\"\n",
        "    Función que recibe un diccionario con los valores de cotización y crear un fichero con un resumen con el mínimo, el máximo y la media.\n",
        "    Parámetros:\n",
        "        - cotizaciones: Es un diccionario con pares cuyas claves son los nombres de la variables medidas y cuyos valores son las listas de valores de cada variable.\n",
        "        - ruta: Es una cadena con la ruta del fichero.\n",
        "    \"\"\"\n",
        "    # Eliminamos el primer par del diccionario que contiene los nombres de las empresas\n",
        "    del(cotizaciones['Nombre'])\n",
        "    # Abrimos el fichero en modo escritura\n",
        "    f = open(ruta, 'w')\n",
        "    # Escribimos en la primera línea los nombres de las columnas\n",
        "    f.write('Nombre')\n",
        "    for clave in cotizaciones.keys():\n",
        "        f.write(';' + clave)\n",
        "    # Calculamos los mínimos de cada lista y los escribimos en las columnas correspondientes\n",
        "    f.write('\\nMínimo')\n",
        "    for valores in cotizaciones.values():\n",
        "        f.write(';' + str(min(valores)))\n",
        "    # Calculamos los máximos de cada lista y los escribimos en las columnas correspondientes\n",
        "    f.write('\\nMáximo')\n",
        "    for valores in cotizaciones.values():\n",
        "        f.write(';' + str(max(valores)))\n",
        "    # Calculamos las medias de cada lista y las escribimos en las columnas correspondientes\n",
        "    f.write('\\nMedia')\n",
        "    for valores in cotizaciones.values():\n",
        "        f.write(';' + str(sum(valores)/len(valores)))\n",
        "    f.close()\n",
        "    return\n",
        "\n",
        "#ruta ='/content/drive/MyDrive/colab/examen/cotizacion.csv'\n",
        "# Llamada a las funciones de prueba\n",
        "cotizaciones = preprocesado('cotizacion.csv')\n",
        "#cotizaciones = preprocesado('/content/drive/MyDrive/colab/examen/cotizacion.csv')\n",
        "\n",
        "\n",
        "#resumen_cotizacion(cotizaciones, 'resumen-cotizacion.csv')\n",
        "\n",
        "print(\"\")\n",
        "print(\" \")\n",
        "ruta = input(\"Ingresa la ruta del CSV: \")\n",
        "print(\"\")\n",
        "print(\" \")\n",
        "preprocesado(ruta)\n"
      ],
      "execution_count": null,
      "outputs": [
        {
          "output_type": "stream",
          "text": [
            "Mounted at /content/drive\n",
            "El fichero no existe.\n",
            "\n",
            " \n",
            "Ingresa la ruta del CSV: /content/drive/MyDrive/colab/examen/cotizacion.csv\n",
            "\n",
            " \n"
          ],
          "name": "stdout"
        },
        {
          "output_type": "execute_result",
          "data": {
            "text/plain": [
              "{'Efectivo': [2343090.0, 3.1767778e+16, 1058925938270284.0],\n",
              " 'Final': [101650.0, 2.7967687571428572e+32, 9.322562523878595e+16],\n",
              " 'Máximo': [406750.0, 3.1701133571428572e+32, 1.0567044523889333e+32],\n",
              " 'Mínimo': [101650.0, 3.136510471428572e+16, 1.0455034905451624e+16],\n",
              " 'Nombre': ['Mínimo', 'Máximo', 'Media'],\n",
              " 'Volumen': [122100.0, 4.252278514285714e+16, 1.417426291864948e+16]}"
            ]
          },
          "metadata": {
            "tags": []
          },
          "execution_count": 57
        }
      ]
    }
  ]
}